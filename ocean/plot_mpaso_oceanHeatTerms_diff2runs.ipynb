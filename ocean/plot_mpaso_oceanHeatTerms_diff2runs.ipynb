from __future__ import absolute_import, division, print_function, \
    unicode_literals
import os
import glob
from netCDF4 import Dataset as netcdf_dataset
import numpy as np
import numpy.ma as ma
from scipy.ndimage.filters import gaussian_filter
import matplotlib as mpl
import matplotlib.pyplot as plt
import matplotlib.colors as cols
from matplotlib.pyplot import cm
from matplotlib.colors import from_levels_and_colors
from matplotlib.colors import BoundaryNorm
import cartopy.crs as ccrs
import cartopy.feature as cfeature
import matplotlib.ticker as mticker
import cmocean

def _add_land_lakes_coastline(ax):
    land_50m = cfeature.NaturalEarthFeature(
            'physical', 'land', '50m', edgecolor='face',
            facecolor='lightgray', linewidth=0.5)
    lakes_50m = cfeature.NaturalEarthFeature(
            'physical', 'lakes', '50m', edgecolor='k',
            facecolor='aliceblue',
            linewidth=0.5)
    coast_50m = cfeature.NaturalEarthFeature(
            'physical', 'coastline', '50m', edgecolor='k',
            facecolor='None', linewidth=0.5)
    ax.add_feature(land_50m, zorder=2)
    ax.add_feature(lakes_50m, zorder=3)
    ax.add_feature(coast_50m, zorder=4)

projdir = '/project/projectdirs/m3412/simulations'
meshName = 'SOwISC12to60E2r4'
meshfile = '/global/cscratch1/sd/dcomeau/e3sm_scratch/cori-knl/20210601.CRYO1850.ne30pg2_ECwISC30to60E2r1.rc3e.cori-knl/run/20210601.CRYO1850.ne30pg2_ECwISC30to60E2r1.rc3e.cori-knl.mpassi.rst.0006-01-01_00000.nc'
#runname = '20190509.A_WCYCL1950S_CMIP6_LRtunedHR.ne30_oECv3_ICG.anvil'
runname1 = '20210603.WCYCL1850.ne30pg2_ECwISC30to60E2r1.rc3e.cori-knl'
runname2 = '20210601.CRYO1850.ne30pg2_ECwISC30to60E2r1.rc3e.cori-knl'

figdir = './ocean_hflux_native/diff'
if not os.path.isdir(figdir):
    os.makedirs(figdir)

climoyearStart = 1
#climoyearEnd = 9
climoyearStart = 1
climoyearEnd = 9
modeldir1 = '/global/cscratch1/sd/sprice/e3sm_scratch/cori-knl/{}/run'.format(
    runname1)
modeldir2 = '/global/cscratch1/sd/dcomeau/e3sm_scratch/cori-knl/{}/run'.format(
    runname2)
months = [1]#, 8, 13]
#months = [13]
#months = range(1, 14) # month=13 is ANN

figsizeGlobal = [12, 20]
figsizePolar = [20, 20]
#figsize=[12, 20]
figdpi = 100

# z levels [m] (relevant for 3d variables)
dlevels = [0.0]

colorIndices0 = [0, 10, 28, 57, 85, 113, 142, 170, 198, 227, 242, 255]

pi2deg = 180/np.pi

variables = [{'name': 'latentHeatFlux',
              'title': 'Latent',
              'units': 'W m^{-2}',
              'mpas': 'timeMonthly_avg_latentHeatFlux',
              'component': 'mpaso',
              'factor': 1,
              'colormap': plt.get_cmap('RdBu_r'),
              'clevels':  np.linspace(-150.,  150., 11),
              'clevelsNH':  np.linspace(0.,  160., 11),
              'clevelsSH':  np.linspace(0.,  160., 11),
              'is3d': False},
             {'name': 'sensibleHeatFlux',
              'title': 'Sensible',
              'units': 'W m^{-2}',
              'mpas': 'timeMonthly_avg_sensibleHeatFlux',
              'component': 'mpaso',
              'factor': 1,
              'colormap': plt.get_cmap('RdBu_r'),
              'clevels':  np.linspace(-150,  150., 11),
              'clevelsNH': np.linspace(0.,  200., 11),
              'clevelsSH':  np.linspace(0.,  100., 11),
              'is3d': False},
            {'name': 'seaIceHeatFlux',
              'title': 'Sea Ice Heat',
              'units': 'W m^{-2}',
              'mpas': 'timeMonthly_avg_seaIceHeatFlux',
              'component': 'mpaso',
              'factor': 1,
              'colormap': plt.get_cmap('RdBu_r'),
              'clevels':  np.linspace(-200.,  200., 11),
              'clevelsNH': np.linspace(0.,  200., 11),
              'clevelsSH':  np.linspace(0.,  200., 11),
              'is3d': False},
             {'name': 'shortWaveHeatFlux',
              'title': 'Shortwave',
              'units': 'W m^{-2}',
              'mpas': 'timeMonthly_avg_shortWaveHeatFlux',
              'component': 'mpaso',
              'factor': 1,
              'colormap': plt.get_cmap('RdBu_r'),
              'clevels':  np.linspace(-100,  100., 11),
              'clevelsNH': np.linspace(0.,  80., 11),
              'clevelsSH': np.linspace(0.,  400., 11),
              'is3d': False},
             {'name': 'longWaveHeatFluxUp',
              'title': 'LongwaveUp',
              'units': 'W m^{-2}',
              'mpas': 'timeMonthly_avg_longWaveHeatFluxUp',
              'component': 'mpaso',
              'factor': 1,
              'colormap': plt.get_cmap('RdBu_r'),
              'clevels':  np.linspace(-150,  150., 11),
              'clevelsNH': np.linspace(0.,  80., 11),
              'clevelsSH': np.linspace(0.,  400., 11),
              'is3d': False},
             {'name': 'longWaveHeatFluxDown',
              'title': 'LongwaveDown',
              'units': 'W m^{-2}',
              'mpas': 'timeMonthly_avg_longWaveHeatFluxDown',
              'component': 'mpaso',
              'factor': 1,
              'colormap': plt.get_cmap('RdBu_r'),
              'clevels':  np.linspace(-150,  150., 11),
              'clevelsNH': np.linspace(0.,  80., 11),
              'clevelsSH': np.linspace(0.,  400., 11),
              'is3d': False},
#              {'name': 'penetrativeTemperatureFlux',
#               'title': 'Penetrative Temp',
#               'units': 'W m^{-2}',
#               'mpas': 'timeMonthly_avg_penetrativeTemperatureFlux',
#               'component': 'mpaso',
#               'factor': 1,
#               'colormap': plt.get_cmap('RdBu_r'),
#               'clevels':  np.linspace( -0.5e-4,  0.5e-4, 11),
#               'clevelsNH': np.linspace(0.,  0.3*1e-4, 11),
#               'clevelsSH':  np.linspace(0.,  1e-4, 11),
#               'is3d': False},
            {'name': 'totalFreshWaterTemperatureFlux',
              'title': 'Freshwater Temp',
              'units': 'm C s^{-1}',
              'mpas': 'timeMonthly_avg_totalFreshWaterTemperatureFlux',
              'component': 'mpaso',
              'factor': 1,
              'colormap': plt.get_cmap('RdBu_r'),
              'clevels':  np.linspace(-0.5e-4,  0.5e-4, 11),
              'clevelsNH': np.linspace(0.,  1e-5, 11),
              'clevelsSH':  np.linspace(0.,  1e-4, 11),
              'is3d': False},
            {'name': 'frazilTemperatureTendency',
              'title': 'Frazil Temp',
              'units': 'm C s^{-1}',
              'mpas': 'timeMonthly_avg_frazilTemperatureTendency',
              'component': 'mpaso',
              'factor': 1,
              'colormap': plt.get_cmap('RdBu_r'),
              'clevels':  np.linspace(-0.5e-4,  0.5e-4, 11),
              'clevelsNH': np.linspace(0.,  1e-5, 11),
              'clevelsSH':  np.linspace(0.,  1e-4, 11),
              'is3d': True},
#             {'name': 'nonLocalTemperatureSurfaceFlux',
#               'title': 'NonLocal Surf.',
#               'units': 'W m^{-2}',
#               'mpas': 'timeMonthly_avg_nonLocalSurfaceTracerFlux_nonLocalTemperatureSurfaceFlux',
#               'component': 'mpaso',
#               'factor': 1,
#               'colormap': plt.get_cmap('RdBu_r'),
#               'clevels':  np.linspace(-0.5e-4,  0.5e-4, 11),
#               'clevelsNH': np.linspace(0.,  1e-4, 11),
#               'clevelsSH': np.linspace(0.,  1e-4, 11),
#               'is3d': False},
            {'name': 'temperatureSurfaceFlux',
              'title': 'Surface Flux',
              'units': 'm C s^{-1}',
              'mpas': 'timeMonthly_avg_activeTracersSurfaceFlux_temperatureSurfaceFlux',
              'component': 'mpaso',
              'factor': 1,
              'colormap': plt.get_cmap('RdBu_r'),
              'clevels':  np.linspace(-1e-4,  1e-4, 11),
              'clevelsNH': np.linspace(0.,  1e-4, 11),
              'clevelsSH':  np.linspace(0.,  1e-4, 11),
              'is3d': False}]

    


# Info about MPAS mesh
f = netcdf_dataset(meshfile, mode='r')
lon = f.variables['lonCell'][:]
lat = f.variables['latCell'][:]
#z = f.variables['refBottomDepth'][:]
f.close()
lon = pi2deg*lon
lat = pi2deg*lat
# Find model levels for each depth level
zlevels = np.zeros(np.shape(dlevels), dtype=np.int)
# for id in range(len(dlevels)):
#     dz = np.abs(z-dlevels[id])
#     zlevels[id] = np.argmin(dz)
#print('Model levels = ', z[zlevels])
markersize = 0.02
for year in np.arange(climoyearStart, climoyearEnd + 1):
#year = 1
#var= variables{0}


    for month in months:
        # Read in model data
        modelfile1 = '{}/{}.{}.hist.am.timeSeriesStatsMonthly.{:04d}-{:02d}-01.nc'.format(
                modeldir1, runname1,  'mpaso',year,
                month)
        modelfile2 = '{}/{}.{}.hist.am.timeSeriesStatsMonthly.{:04d}-{:02d}-01.nc'.format(
                modeldir2, runname2,  'mpaso',year,
                month)
        print(modelfile1)
        f1 = netcdf_dataset(modelfile1, mode='r')
        f2 = netcdf_dataset(modelfile2, mode='r')
        fig = plt.figure(figsize=[12, 20], dpi=figdpi)
        rows = 9
        columns = 3
        grid = plt.GridSpec(rows, columns, wspace = .1, hspace = .1)
        figtitle = 'Diff: CRYO-WCYCL  Ocean Heat Fluxes, Year={:04d}, Month={:02d}'.format(
                year, month)
        figfileGlobal = '{}/HeatFlux_Global_{}vs{}_{:04d}_{:02d}.png'.format(
                figdir, runname2, runname1, year, month)
        #plt.title(figtitle, y=1.04, fontsize=22)
        data_crs = ccrs.PlateCarree()
        for ii in np.arange(len(variables)):
            var = variables[ii]

            outvarname = var['name']
            mpasvarname = var['mpas']
            factor = var['factor']
            if (var['is3d'] == True): 
                fld = np.squeeze(f2.variables[mpasvarname][:, :, 0] - f1.variables[mpasvarname][:, :, 0])
            else: 
                fld = f2.variables[mpasvarname][:] - f1.variables[mpasvarname][:]
                #fld = ma.masked_less(np.abs(fld), 1e-15)
                #fld = fld
                fld = np.squeeze(fld)

            clevels = var['clevels']
            clevelsNH = var['clevelsNH']
            clevelsSH = var['clevelsSH']
            colormap0 = var['colormap']
            underColor = colormap0(colorIndices0[0])
            overColor = colormap0(colorIndices0[-1])
            if len(clevels)+1 == len(colorIndices0):
                # we have 2 extra values for the under/over so make the colormap
                # without these values
                colorIndices = colorIndices0[1:-1]
            colormap = cols.ListedColormap(colormap0(colorIndices))
            colormap.set_under(underColor)
            colormap.set_over(overColor)
            cnorm = mpl.colors.BoundaryNorm(clevels, colormap.N)
            cnormNH = mpl.colors.BoundaryNorm(clevelsNH, colormap.N)
            cnormSH = mpl.colors.BoundaryNorm(clevelsSH, colormap.N)
            print(np.max(fld), np.min(fld))

            ax = plt.subplot(grid[3*ii], projection=ccrs.Miller(central_longitude=0))#plt.axes(projection=)
            _add_land_lakes_coastline(ax)
            ax.set_extent([-180, 180, -90, 90], crs=data_crs)
            gl = ax.gridlines(crs=data_crs, color='k', linestyle=':', zorder=5)
            sc = ax.scatter(lon, lat, s=markersize, c=fld, norm=cnorm, cmap=colormap, marker='o', transform=data_crs)
            cbar = plt.colorbar(sc, ticks=clevels, boundaries=clevels, shrink=.7)
            cbar.ax.tick_params(labelsize=6, labelcolor='black')
            cbar.set_label(var['units'], fontsize=10)
            ax.set_title(var['title'], y=0.94, fontsize=10)

            # NH focus
            ax = plt.subplot(grid[3*ii+1], projection=ccrs.NorthPolarStereo(central_longitude=0))#plt.axes(projection=)
            _add_land_lakes_coastline(ax)
            ax.set_extent([-180, 180, 50, 90], crs=data_crs)
            gl = ax.gridlines(crs=data_crs, color='k', linestyle=':', zorder=5)
            sc = ax.scatter(lon, lat, s=markersize, c=fld, cmap=colormap, norm=cnorm ,marker='o', transform=data_crs)
            cbar = plt.colorbar(sc, ticks=clevels, boundaries=clevels, shrink=.7)
            cbar.ax.tick_params(labelsize=6, labelcolor='black')
            cbar.set_label(var['units'], fontsize=10)
            ax.set_title(var['title'], y=0.94, fontsize=10)

            # SH focus
            ax = plt.subplot(grid[3*ii+2], projection=ccrs.SouthPolarStereo(central_longitude=0))#plt.axes(projection=)
            _add_land_lakes_coastline(ax)
            ax.set_extent([-180, 180, -50, -90], crs=data_crs)
            gl = ax.gridlines(crs=data_crs, color='k', linestyle=':', zorder=5)
            sc = ax.scatter(lon, lat, s=markersize, c=fld, cmap=colormap, norm=cnorm ,marker='o', transform=data_crs)
            cbar = plt.colorbar(sc, ticks=clevels, boundaries=clevels, shrink=.7)
            cbar.ax.tick_params(labelsize=6, labelcolor='black')
            cbar.set_label(var['units'], fontsize=10)
            ax.set_title(var['title'], y=0.94, fontsize=10)
            del fld
            
        f1.close()
        f2.close()
        plt.gcf().text(0.7,0.35,figtitle,horizontalalignment='right',  fontsize=8, rotation='vertical')
        print('saving...')
        plt.savefig(figfileGlobal)
        print('saved')
        plt.close()
